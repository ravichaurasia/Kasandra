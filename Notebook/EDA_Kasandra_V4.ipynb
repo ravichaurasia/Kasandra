{
 "cells": [
  {
   "cell_type": "markdown",
   "metadata": {},
   "source": [
    "## Data set Details\n",
    "\n",
    "The data set is from the [Kasandr UCI data set](https://archive.ics.uci.edu/ml/datasets/KASANDR#).  This is a public data set.  Per the attribution policies, we cite the following paper for this data set:\n",
    "\n",
    "    Sumit Sidana, Charlotte Laclau, Massih-Reza Amini, Gilles Vandelle, and Andre Bois-Crettez. 'KASANDR: A Large-Scale Dataset with Implicit Feedback for Recommendation', SIGIR 2017. \n",
    "\n",
    "The data set is already divided into train and test sets.  The train set has 15,844,718 samples.  The test set has 1,919,562 samples.  That's a total of 17,764,280 samples, with a 90/10 train/test split.\n",
    "\n",
    "The schema is:\n",
    "\n",
    "* Features\n",
    "    * userid: Categorical\n",
    "    * offerid: Categorical\n",
    "    * countrycode: Categorical\n",
    "    * category: Integer (but seems to be encoded, so we'll treat it as categorical)\n",
    "    * merchant: Integer (but seems to be encoded, so we'll treat it as categorical)\n",
    "    * utcdate: Timestamp, format '2016-06-01 02:00:17.0'\n",
    "*  Label: promotion generated response is given in Rating: Binary, 0 or 1 \n"
   ]
  },
  {
   "cell_type": "markdown",
   "metadata": {},
   "source": [
    "# 1) Data Analysis using Pyspark"
   ]
  },
  {
   "cell_type": "markdown",
   "metadata": {},
   "source": [
    "## Data Loading"
   ]
  },
  {
   "cell_type": "code",
   "execution_count": 6,
   "metadata": {},
   "outputs": [],
   "source": [
    "#import and create sparksession object\n",
    "import time\n",
    "from pyspark.sql import SparkSession \n",
    "# sc = SparkContext(master=\"local[2]\")\n",
    "# spark = SparkSession.builder.appName('rc').getOrCreate()\n",
    "# spark = SparkSession.builder.master(\"local[2]\").appName(\"rc\").config(\"spark.some.config.option\", \"some-value\").getOrCreate()\n",
    "spark = SparkSession.builder.master(\"local[2]\").appName(\"rc\").getOrCreate()"
   ]
  },
  {
   "cell_type": "code",
   "execution_count": 5,
   "metadata": {},
   "outputs": [],
   "source": [
    "spark.stop()"
   ]
  },
  {
   "cell_type": "code",
   "execution_count": 7,
   "metadata": {},
   "outputs": [
    {
     "name": "stdout",
     "output_type": "stream",
     "text": [
      "98.44799494743347 sec\n"
     ]
    }
   ],
   "source": [
    "#Read data\n",
    "dpath=\"C:\\\\Datasets\\\\MLData\\\\Kasandr\\\\dataset\\\\train_de.csv\"\n",
    "start = time.time()\n",
    "#import the required functions and libraries\n",
    "from pyspark.sql.functions import *\n",
    "#load the dataset and create sprk dataframe\n",
    "df=spark.read.csv(dpath,inferSchema=True,header=True,sep='\\t')\n",
    "end = time.time()\n",
    "print(str(end - start)+' sec')"
   ]
  },
  {
   "cell_type": "code",
   "execution_count": 3,
   "metadata": {},
   "outputs": [
    {
     "name": "stdout",
     "output_type": "stream",
     "text": [
      "+--------------------+--------------------+-----------+---------+--------------------+-------------------+------+\n",
      "|              userid|             offerid|countrycode| category|            merchant|            utcdate|rating|\n",
      "+--------------------+--------------------+-----------+---------+--------------------+-------------------+------+\n",
      "|fa937b779184527f1...|c5f63750c2b5b0166...|         de|100020213|f3c93baa0cf443084...|2016-06-14 17:28:47|     0|\n",
      "|f6c8958b9bc2d6033...|19754ec121b3a99ff...|         de|100020213|21a509189fb0875c3...|2016-06-14 17:28:48|     0|\n",
      "|02fe7ccf1de19a387...|5ac4398e4d8ad4167...|         de|   125801|b042951fdb45ddef8...|2016-06-14 17:28:50|     0|\n",
      "|9de5c06d0a16256b1...|be83df9772ec47fd2...|         de|   125801|4740b6c83b6e12e42...|2016-06-14 17:29:19|     0|\n",
      "|8d26ade603ea5473c...|3735290a415dc236b...|         de|   125801|8bf8f87492a799528...|2016-06-14 17:29:31|     0|\n",
      "+--------------------+--------------------+-----------+---------+--------------------+-------------------+------+\n",
      "only showing top 5 rows\n",
      "\n"
     ]
    }
   ],
   "source": [
    "df.show(5)"
   ]
  },
  {
   "cell_type": "code",
   "execution_count": 6,
   "metadata": {},
   "outputs": [
    {
     "name": "stdout",
     "output_type": "stream",
     "text": [
      "(15844717, 7)\n"
     ]
    }
   ],
   "source": [
    "#validate the shape of the data \n",
    "print((df.count(),len(df.columns)))"
   ]
  },
  {
   "cell_type": "code",
   "execution_count": 14,
   "metadata": {},
   "outputs": [
    {
     "name": "stdout",
     "output_type": "stream",
     "text": [
      "+------+--------+\n",
      "|rating|   count|\n",
      "+------+--------+\n",
      "|     1|  705447|\n",
      "|     0|15139270|\n",
      "+------+--------+\n",
      "\n"
     ]
    }
   ],
   "source": [
    "#Target variable\n",
    "target = df.select('rating').groupBy('rating').count()\n",
    "target.show()\n",
    "\n",
    "total_yes = target.head(2)[0][1] \n",
    "total_no = target.head(2)[1][1] "
   ]
  },
  {
   "cell_type": "code",
   "execution_count": 19,
   "metadata": {},
   "outputs": [
    {
     "name": "stdout",
     "output_type": "stream",
     "text": [
      "Target : 4.7%\n"
     ]
    }
   ],
   "source": [
    "print(\"Target : {0:.2}%\".format((total_yes/total_no)*100))"
   ]
  },
  {
   "cell_type": "code",
   "execution_count": 20,
   "metadata": {},
   "outputs": [
    {
     "name": "stdout",
     "output_type": "stream",
     "text": [
      "+-----------+\n",
      "|countrycode|\n",
      "+-----------+\n",
      "|         de|\n",
      "+-----------+\n",
      "\n"
     ]
    }
   ],
   "source": [
    "df.select('countrycode').distinct().show()"
   ]
  },
  {
   "cell_type": "markdown",
   "metadata": {},
   "source": [
    "* The country code is not useful, as the entire data set is for one country."
   ]
  },
  {
   "cell_type": "markdown",
   "metadata": {},
   "source": [
    "## Data Cleaning"
   ]
  },
  {
   "cell_type": "code",
   "execution_count": 21,
   "metadata": {},
   "outputs": [
    {
     "data": {
      "text/plain": [
       "['userid',\n",
       " 'offerid',\n",
       " 'countrycode',\n",
       " 'category',\n",
       " 'merchant',\n",
       " 'utcdate',\n",
       " 'rating']"
      ]
     },
     "execution_count": 21,
     "metadata": {},
     "output_type": "execute_result"
    }
   ],
   "source": [
    "df.columns"
   ]
  },
  {
   "cell_type": "code",
   "execution_count": 22,
   "metadata": {},
   "outputs": [
    {
     "name": "stdout",
     "output_type": "stream",
     "text": [
      "userid :  0\n",
      "offerid :  0\n",
      "countrycode :  0\n",
      "category :  0\n",
      "merchant :  0\n",
      "utcdate :  0\n",
      "rating :  0\n"
     ]
    }
   ],
   "source": [
    "#Check for missing values\n",
    "for col in df.columns:    \n",
    "    print(col, ': ', df.filter((df[col] == \"\") | df[col].isNull()).count())"
   ]
  },
  {
   "cell_type": "markdown",
   "metadata": {},
   "source": [
    "## EDA"
   ]
  },
  {
   "cell_type": "code",
   "execution_count": 23,
   "metadata": {},
   "outputs": [
    {
     "data": {
      "text/plain": [
       "(datetime.datetime(2016, 6, 1, 2, 0, 17),\n",
       " datetime.datetime(2016, 6, 14, 23, 52, 51))"
      ]
     },
     "execution_count": 23,
     "metadata": {},
     "output_type": "execute_result"
    }
   ],
   "source": [
    "#Dates \n",
    "min_date, max_date = df.select(min(\"utcdate\"), max(\"utcdate\")).first()\n",
    "min_date, max_date"
   ]
  },
  {
   "cell_type": "code",
   "execution_count": 8,
   "metadata": {},
   "outputs": [
    {
     "name": "stdout",
     "output_type": "stream",
     "text": [
      "+--------------------+--------------------+---------+--------------------+-------------------+------+\n",
      "|              userid|             offerid| category|            merchant|            utcdate|rating|\n",
      "+--------------------+--------------------+---------+--------------------+-------------------+------+\n",
      "|fa937b779184527f1...|c5f63750c2b5b0166...|100020213|f3c93baa0cf443084...|2016-06-14 17:28:47|     0|\n",
      "|f6c8958b9bc2d6033...|19754ec121b3a99ff...|100020213|21a509189fb0875c3...|2016-06-14 17:28:48|     0|\n",
      "|02fe7ccf1de19a387...|5ac4398e4d8ad4167...|   125801|b042951fdb45ddef8...|2016-06-14 17:28:50|     0|\n",
      "|9de5c06d0a16256b1...|be83df9772ec47fd2...|   125801|4740b6c83b6e12e42...|2016-06-14 17:29:19|     0|\n",
      "|8d26ade603ea5473c...|3735290a415dc236b...|   125801|8bf8f87492a799528...|2016-06-14 17:29:31|     0|\n",
      "+--------------------+--------------------+---------+--------------------+-------------------+------+\n",
      "only showing top 5 rows\n",
      "\n"
     ]
    }
   ],
   "source": [
    "df=df.drop('countrycode')\n",
    "df.show(5)"
   ]
  },
  {
   "cell_type": "code",
   "execution_count": 9,
   "metadata": {},
   "outputs": [
    {
     "name": "stdout",
     "output_type": "stream",
     "text": [
      "+--------------------+--------------------+---------+--------------------+-------------------+------+-----------+\n",
      "|              userid|             offerid| category|            merchant|            utcdate|rating|day_of_week|\n",
      "+--------------------+--------------------+---------+--------------------+-------------------+------+-----------+\n",
      "|fa937b779184527f1...|c5f63750c2b5b0166...|100020213|f3c93baa0cf443084...|2016-06-14 17:28:47|     0|          3|\n",
      "|f6c8958b9bc2d6033...|19754ec121b3a99ff...|100020213|21a509189fb0875c3...|2016-06-14 17:28:48|     0|          3|\n",
      "|02fe7ccf1de19a387...|5ac4398e4d8ad4167...|   125801|b042951fdb45ddef8...|2016-06-14 17:28:50|     0|          3|\n",
      "|9de5c06d0a16256b1...|be83df9772ec47fd2...|   125801|4740b6c83b6e12e42...|2016-06-14 17:29:19|     0|          3|\n",
      "|8d26ade603ea5473c...|3735290a415dc236b...|   125801|8bf8f87492a799528...|2016-06-14 17:29:31|     0|          3|\n",
      "+--------------------+--------------------+---------+--------------------+-------------------+------+-----------+\n",
      "only showing top 5 rows\n",
      "\n"
     ]
    }
   ],
   "source": [
    "df = df.withColumn('day_of_week',dayofweek(df.utcdate))\n",
    "df.show(5)"
   ]
  },
  {
   "cell_type": "code",
   "execution_count": 10,
   "metadata": {},
   "outputs": [
    {
     "name": "stdout",
     "output_type": "stream",
     "text": [
      "+-----------+-------+\n",
      "|day_of_week|  count|\n",
      "+-----------+-------+\n",
      "|          1|2991702|\n",
      "|          6|1923578|\n",
      "|          3|2103404|\n",
      "|          5|2403321|\n",
      "|          4|1955536|\n",
      "|          7|2412142|\n",
      "|          2|2055034|\n",
      "+-----------+-------+\n",
      "\n"
     ]
    }
   ],
   "source": [
    "df.select('day_of_week').groupBy('day_of_week').count().show()"
   ]
  },
  {
   "cell_type": "code",
   "execution_count": 10,
   "metadata": {},
   "outputs": [
    {
     "name": "stdout",
     "output_type": "stream",
     "text": [
      "+--------------------+--------------------+---------+--------------------+-------------------+------+-----------+----+\n",
      "|              userid|             offerid| category|            merchant|            utcdate|rating|day_of_week|hour|\n",
      "+--------------------+--------------------+---------+--------------------+-------------------+------+-----------+----+\n",
      "|fa937b779184527f1...|c5f63750c2b5b0166...|100020213|f3c93baa0cf443084...|2016-06-14 17:28:47|     0|          3|  17|\n",
      "|f6c8958b9bc2d6033...|19754ec121b3a99ff...|100020213|21a509189fb0875c3...|2016-06-14 17:28:48|     0|          3|  17|\n",
      "|02fe7ccf1de19a387...|5ac4398e4d8ad4167...|   125801|b042951fdb45ddef8...|2016-06-14 17:28:50|     0|          3|  17|\n",
      "|9de5c06d0a16256b1...|be83df9772ec47fd2...|   125801|4740b6c83b6e12e42...|2016-06-14 17:29:19|     0|          3|  17|\n",
      "|8d26ade603ea5473c...|3735290a415dc236b...|   125801|8bf8f87492a799528...|2016-06-14 17:29:31|     0|          3|  17|\n",
      "+--------------------+--------------------+---------+--------------------+-------------------+------+-----------+----+\n",
      "only showing top 5 rows\n",
      "\n"
     ]
    }
   ],
   "source": [
    "df = df.withColumn('hour',hour(df.utcdate))\n",
    "df.show(5)"
   ]
  },
  {
   "cell_type": "code",
   "execution_count": 11,
   "metadata": {},
   "outputs": [
    {
     "name": "stdout",
     "output_type": "stream",
     "text": [
      "+--------------------+--------------------+---------+--------------------+------+-----------+----+\n",
      "|              userid|             offerid| category|            merchant|rating|day_of_week|hour|\n",
      "+--------------------+--------------------+---------+--------------------+------+-----------+----+\n",
      "|fa937b779184527f1...|c5f63750c2b5b0166...|100020213|f3c93baa0cf443084...|     0|          3|  17|\n",
      "|f6c8958b9bc2d6033...|19754ec121b3a99ff...|100020213|21a509189fb0875c3...|     0|          3|  17|\n",
      "|02fe7ccf1de19a387...|5ac4398e4d8ad4167...|   125801|b042951fdb45ddef8...|     0|          3|  17|\n",
      "|9de5c06d0a16256b1...|be83df9772ec47fd2...|   125801|4740b6c83b6e12e42...|     0|          3|  17|\n",
      "|8d26ade603ea5473c...|3735290a415dc236b...|   125801|8bf8f87492a799528...|     0|          3|  17|\n",
      "+--------------------+--------------------+---------+--------------------+------+-----------+----+\n",
      "only showing top 5 rows\n",
      "\n"
     ]
    }
   ],
   "source": [
    "df=df.drop('utcdate')\n",
    "df.show(5)"
   ]
  },
  {
   "cell_type": "markdown",
   "metadata": {},
   "source": [
    "### Column- day_of_week"
   ]
  },
  {
   "cell_type": "code",
   "execution_count": 8,
   "metadata": {},
   "outputs": [
    {
     "name": "stdout",
     "output_type": "stream",
     "text": [
      "+-----------+--------------------+------------------+\n",
      "|day_of_week|         avg(rating)|count(day_of_week)|\n",
      "+-----------+--------------------+------------------+\n",
      "|          1| 0.03237889335234592|           2991702|\n",
      "|          6| 0.03882920266295414|           1923578|\n",
      "|          3| 0.10241874599458782|           2103404|\n",
      "|          5| 0.03401875987435719|           2403321|\n",
      "|          4|0.041626950360412696|           1955536|\n",
      "|          7|0.031137470347931424|           2412142|\n",
      "|          2|0.039021738813080464|           2055034|\n",
      "+-----------+--------------------+------------------+\n",
      "\n"
     ]
    }
   ],
   "source": [
    "#Weekdays Grouping \n",
    "weekdays = df.groupBy('day_of_week').agg({'rating': 'mean', 'day_of_week': 'count'})\n",
    "weekdays.show()"
   ]
  },
  {
   "cell_type": "code",
   "execution_count": 11,
   "metadata": {},
   "outputs": [
    {
     "name": "stdout",
     "output_type": "stream",
     "text": [
      "+-----------+--------------------+------------------+---------------+\n",
      "|day_of_week|         avg(rating)|count(day_of_week)|count(positive)|\n",
      "+-----------+--------------------+------------------+---------------+\n",
      "|          3| 0.10241874599458782|           2103404|         215428|\n",
      "|          4|0.041626950360412696|           1955536|          81403|\n",
      "|          2|0.039021738813080464|           2055034|          80191|\n",
      "|          6| 0.03882920266295414|           1923578|          74691|\n",
      "|          5| 0.03401875987435719|           2403321|          81758|\n",
      "|          1| 0.03237889335234592|           2991702|          96868|\n",
      "|          7|0.031137470347931424|           2412142|          75108|\n",
      "+-----------+--------------------+------------------+---------------+\n",
      "\n"
     ]
    }
   ],
   "source": [
    "weekdays = weekdays.withColumn('count(positive)', (col('avg(rating)') * col('count(day_of_week)')).cast('int'))\n",
    "weekdays = weekdays.sort(\"avg(rating)\", ascending=False)\n",
    "weekdays.show()"
   ]
  },
  {
   "cell_type": "markdown",
   "metadata": {},
   "source": [
    "### Column - hour"
   ]
  },
  {
   "cell_type": "code",
   "execution_count": 12,
   "metadata": {},
   "outputs": [
    {
     "name": "stdout",
     "output_type": "stream",
     "text": [
      "+----+-----------+--------------------+---------------+\n",
      "|hour|count(hour)|         avg(rating)|count(positive)|\n",
      "+----+-----------+--------------------+---------------+\n",
      "|   0|      27285|  0.3720725673446949|          10152|\n",
      "|  20|     124057|  0.3546514908469494|          43997|\n",
      "|   1|      19329| 0.32019245693000153|           6189|\n",
      "|  21|     140220| 0.31691627442590214|          44438|\n",
      "|  22|     128301| 0.30285812269584805|          38857|\n",
      "|  23|     139157|  0.2634003319991089|          36654|\n",
      "|  19|     264503| 0.16856519585789198|          44586|\n",
      "|  18|     581059| 0.08287970756842249|          48158|\n",
      "|  17|    1275499| 0.04213723413346463|          53746|\n",
      "|   7|     499146| 0.03726164288604937|          18599|\n",
      "|  16|    1558179| 0.03268302293895631|          50926|\n",
      "|  10|    1348360| 0.03207600344121748|          43250|\n",
      "|   8|     771206|0.031104529788409323|          23988|\n",
      "|   9|    1022504|0.029534358789794466|          30199|\n",
      "|  11|    1330400| 0.02866882140709561|          38141|\n",
      "|   4|     128428|0.027307129286448437|           3507|\n",
      "|  15|    1498873|0.026956253131519482|          40404|\n",
      "|  12|    1356433|  0.0266787965199903|          36188|\n",
      "|  13|    1373594|0.026670180562815504|          36634|\n",
      "|   5|     152877|0.026537674077853436|           4056|\n",
      "|   3|     161215| 0.02549390565394039|           4110|\n",
      "|  14|    1423326| 0.02542987340918384|          36195|\n",
      "|   6|     308217|0.025417157392356685|           7834|\n",
      "|   2|     212549|0.021820850721480694|           4638|\n",
      "+----+-----------+--------------------+---------------+\n",
      "\n"
     ]
    }
   ],
   "source": [
    "#Hour Grouping \n",
    "hours = df.groupBy('hour').agg({'rating': 'mean', 'hour': 'count'})\n",
    "\n",
    "hours = hours.withColumn('count(positive)', (col('avg(rating)') * col('count(hour)')).cast('int'))\n",
    "hours = hours.sort(\"avg(rating)\", ascending=False)\n",
    "hours.show(24)"
   ]
  },
  {
   "cell_type": "markdown",
   "metadata": {},
   "source": [
    "> This attribute shows that maximum positive counts is generally occuring at evening and night"
   ]
  },
  {
   "cell_type": "markdown",
   "metadata": {},
   "source": [
    "### Column - Merchants"
   ]
  },
  {
   "cell_type": "code",
   "execution_count": 12,
   "metadata": {},
   "outputs": [
    {
     "name": "stdout",
     "output_type": "stream",
     "text": [
      "+--------------------+------------------+---------------+---------------+\n",
      "|            merchant|       avg(rating)|count(merchant)|count(positive)|\n",
      "+--------------------+------------------+---------------+---------------+\n",
      "|245d2c7b8e6fc4de4...|               1.0|             54|             54|\n",
      "|3e0c8ff0db6c0ba0a...|               1.0|             31|             31|\n",
      "|36e2130a3c07037b1...|0.9523809523809523|             21|             20|\n",
      "|ea0c486f7e2afef05...|0.9354838709677419|             31|             29|\n",
      "|cde1bb72b28d4a887...|0.9230769230769231|             13|             12|\n",
      "+--------------------+------------------+---------------+---------------+\n",
      "only showing top 5 rows\n",
      "\n"
     ]
    }
   ],
   "source": [
    "#Merchants Grouping \n",
    "mercs = df.groupBy('merchant').agg({'rating': 'mean', 'merchant': 'count'})\n",
    "\n",
    "mercs = mercs.withColumn('count(positive)', (col('avg(rating)') * col('count(merchant)')).cast('int'))\n",
    "mercs = mercs.sort(\"avg(rating)\", ascending=False)\n",
    "mercs.show(5)"
   ]
  },
  {
   "cell_type": "code",
   "execution_count": 15,
   "metadata": {},
   "outputs": [
    {
     "name": "stdout",
     "output_type": "stream",
     "text": [
      "+--------------------+-------------------+---------------+---------------+\n",
      "|            merchant|        avg(rating)|count(merchant)|count(positive)|\n",
      "+--------------------+-------------------+---------------+---------------+\n",
      "|66863da8db7e6c51b...| 0.6265489999207334|          75694|          47425|\n",
      "|a7b2f269064dbe77e...|0.30314010305378086|         187669|          56890|\n",
      "|ac26975cf46eae989...| 0.1618780124357797|         314737|          50949|\n",
      "|70ea724342fb2d118...| 0.1512924051551128|          82714|          12514|\n",
      "|eb49b22a1bbd88fbd...|0.07760938578329883|         181125|          14057|\n",
      "|ab8863ef55e574c00...|0.06480676778336472|         579924|          37583|\n",
      "|5878d16d0c0691283...| 0.0536400383381256|         239970|          12872|\n",
      "|fca91704667a53350...|0.04780318920597915|         286529|          13697|\n",
      "|8497a9dd86ab3b7f1...|0.04425939471683428|         277523|          12283|\n",
      "|154f65f908a740682...| 0.0244791419290489|         484249|          11854|\n",
      "+--------------------+-------------------+---------------+---------------+\n",
      "\n",
      "Total Yes:  705447\n"
     ]
    }
   ],
   "source": [
    "mercs.filter(mercs['count(positive)'] > 10000).show()\n",
    "print('Total Yes: ', total_yes)\n"
   ]
  },
  {
   "cell_type": "markdown",
   "metadata": {},
   "source": [
    "> top three merchant have more then 21% of total clicks"
   ]
  },
  {
   "cell_type": "markdown",
   "metadata": {},
   "source": [
    "### Column - Categories"
   ]
  },
  {
   "cell_type": "code",
   "execution_count": 16,
   "metadata": {},
   "outputs": [
    {
     "name": "stdout",
     "output_type": "stream",
     "text": [
      "+---------+------------------+---------------+---------------+\n",
      "| category|       avg(rating)|count(category)|count(positive)|\n",
      "+---------+------------------+---------------+---------------+\n",
      "|100020813|               1.0|             54|             54|\n",
      "|   121201|0.9902912621359223|            103|            102|\n",
      "|100345723|0.9705882352941176|            170|            165|\n",
      "|   128101|               0.9|             20|             18|\n",
      "|100333423|0.8773584905660378|            212|            186|\n",
      "+---------+------------------+---------------+---------------+\n",
      "only showing top 5 rows\n",
      "\n"
     ]
    }
   ],
   "source": [
    "#Categories Grouping \n",
    "cats = df.groupBy(\"category\").agg({'rating': 'mean', 'category': 'count'})\n",
    "\n",
    "cats = cats.withColumn('count(positive)', (col('avg(rating)') * col('count(category)')).cast('int'))\n",
    "cats = cats.sort(\"avg(rating)\", ascending=False)\n",
    "cats.show(5)"
   ]
  },
  {
   "cell_type": "code",
   "execution_count": 17,
   "metadata": {},
   "outputs": [
    {
     "name": "stdout",
     "output_type": "stream",
     "text": [
      "+---------+--------------------+---------------+---------------+\n",
      "| category|         avg(rating)|count(category)|count(positive)|\n",
      "+---------+--------------------+---------------+---------------+\n",
      "|100010713|  0.5184821498016645|         102856|          53329|\n",
      "|   125801|  0.1227365557895503|         439706|          53968|\n",
      "|100020213| 0.08024719256855496|         663774|          53266|\n",
      "|100354123| 0.07432864699549051|         769044|          57162|\n",
      "|   130401|0.050088623711211526|         200285|          10032|\n",
      "|100434023|0.049709758354654014|         202073|          10045|\n",
      "|   134101| 0.04908641060584009|         226743|          11130|\n",
      "|100091613| 0.04691772227138838|         302828|          14208|\n",
      "|   142101| 0.04081416620078929|         302297|          12337|\n",
      "|   168001| 0.03791937619216083|         274187|          10397|\n",
      "|100232023| 0.03331888597215748|         366849|          12222|\n",
      "|   113501|0.028335950614609844|         461675|          13082|\n",
      "|   108301| 0.02050122659900939|         857656|          17583|\n",
      "|   108101|0.013961994014148183|         934537|          13048|\n",
      "+---------+--------------------+---------------+---------------+\n",
      "\n",
      "Total Yes:  705447\n"
     ]
    }
   ],
   "source": [
    "cats.filter(cats['count(positive)'] > 10000).show()\n",
    "print('Total Yes: ', total_yes)"
   ]
  },
  {
   "cell_type": "markdown",
   "metadata": {},
   "source": [
    "> Interestingly top 4 make up more then 30% of all clicks"
   ]
  },
  {
   "cell_type": "markdown",
   "metadata": {},
   "source": [
    "> Ques) **Does merchant no.1 sell cat no. 1?**"
   ]
  },
  {
   "cell_type": "code",
   "execution_count": 18,
   "metadata": {},
   "outputs": [
    {
     "name": "stdout",
     "output_type": "stream",
     "text": [
      "+---------+-----+\n",
      "| category|count|\n",
      "+---------+-----+\n",
      "|100010713|75694|\n",
      "+---------+-----+\n",
      "\n"
     ]
    }
   ],
   "source": [
    "merch_id = mercs.filter(mercs['count(positive)'] > 10000).head(1)[0][0]\n",
    "\n",
    "df.filter(df['merchant'] == merch_id).groupby('category').count().show()"
   ]
  },
  {
   "cell_type": "markdown",
   "metadata": {},
   "source": [
    "> Ans) **yes**"
   ]
  },
  {
   "cell_type": "markdown",
   "metadata": {},
   "source": [
    "> Ques) **How about merchant No. 2?**"
   ]
  },
  {
   "cell_type": "code",
   "execution_count": 19,
   "metadata": {},
   "outputs": [
    {
     "name": "stdout",
     "output_type": "stream",
     "text": [
      "+---------+-----+\n",
      "| category|count|\n",
      "+---------+-----+\n",
      "|100020213|68673|\n",
      "|   125801|64063|\n",
      "|   113501| 4770|\n",
      "|   142101| 4712|\n",
      "|   143101| 4562|\n",
      "|   133301| 3953|\n",
      "|   120901| 2963|\n",
      "|     6513| 2770|\n",
      "|100046613| 2180|\n",
      "|100367723| 2136|\n",
      "+---------+-----+\n",
      "only showing top 10 rows\n",
      "\n"
     ]
    }
   ],
   "source": [
    "merch_id = mercs.filter(mercs['count(positive)'] > 10000).head(2)[1][0]\n",
    "\n",
    "df.filter(df['merchant'] == merch_id).groupby('category').count().sort('count', ascending=False).show(10)"
   ]
  },
  {
   "cell_type": "markdown",
   "metadata": {},
   "source": [
    "> Ans) **Heavily invoilved in category 2 & 3.**"
   ]
  },
  {
   "cell_type": "markdown",
   "metadata": {},
   "source": [
    "### Column - User"
   ]
  },
  {
   "cell_type": "code",
   "execution_count": 20,
   "metadata": {},
   "outputs": [
    {
     "name": "stdout",
     "output_type": "stream",
     "text": [
      "+--------------------+-----------+-------------+---------------+\n",
      "|              userid|avg(rating)|count(userid)|count(positive)|\n",
      "+--------------------+-----------+-------------+---------------+\n",
      "|b30b99b5627c4b0f6...|        1.0|            6|              6|\n",
      "|9e3dfcddda9bfd607...|        1.0|            5|              5|\n",
      "|bfc7f5a747eec2abd...|        1.0|            2|              2|\n",
      "|b112ac315de5042e0...|        1.0|            7|              7|\n",
      "|84c3e6783aee36656...|        1.0|            2|              2|\n",
      "+--------------------+-----------+-------------+---------------+\n",
      "only showing top 5 rows\n",
      "\n"
     ]
    }
   ],
   "source": [
    "#Users Grouping\n",
    "users = df.groupBy('userid').agg({'rating': 'mean', 'userid': 'count'})\n",
    "\n",
    "users = users.withColumn('count(positive)', (col('avg(rating)') * col('count(userid)')).cast('int'))\n",
    "users = users.sort(\"avg(rating)\", ascending=False)\n",
    "users.show(5)"
   ]
  },
  {
   "cell_type": "code",
   "execution_count": 21,
   "metadata": {},
   "outputs": [
    {
     "name": "stdout",
     "output_type": "stream",
     "text": [
      "+--------------------+-------------------+-------------+---------------+\n",
      "|              userid|        avg(rating)|count(userid)|count(positive)|\n",
      "+--------------------+-------------------+-------------+---------------+\n",
      "|6e2ab4134ce6b24d1...|0.30091743119266057|         4360|           1312|\n",
      "|7511572a7068fe6e7...|                0.3|         3550|           1065|\n",
      "|cad7e4a68117616ba...| 0.2992623814541623|         3796|           1136|\n",
      "|7625efac4a89c43c4...|0.29914529914529914|         6318|           1890|\n",
      "|4ba6cb76318d7db81...|0.29873150105708246|         4730|           1413|\n",
      "|cd5fc9305c30dfd50...|0.29870441458733205|         4168|           1245|\n",
      "|f0fbac7eb4c2c0ded...|0.29798870853916726|         5668|           1689|\n",
      "|314dc010def122b88...| 0.2978501045088086|         6698|           1995|\n",
      "|c08bfca37471d9c79...| 0.2968835429196282|         3658|           1086|\n",
      "|ce57395c3fe3f1037...|0.29661354581673305|         5020|           1489|\n",
      "+--------------------+-------------------+-------------+---------------+\n",
      "only showing top 10 rows\n",
      "\n"
     ]
    }
   ],
   "source": [
    "users.filter(users['count(positive)'] > 1000).show(10)"
   ]
  },
  {
   "cell_type": "markdown",
   "metadata": {},
   "source": [
    "> Got some power users here."
   ]
  },
  {
   "cell_type": "markdown",
   "metadata": {},
   "source": [
    "### Columns - Offers"
   ]
  },
  {
   "cell_type": "code",
   "execution_count": 22,
   "metadata": {},
   "outputs": [
    {
     "name": "stdout",
     "output_type": "stream",
     "text": [
      "+--------------------+-----------+--------------+---------------+\n",
      "|             offerid|avg(rating)|count(offerid)|count(positive)|\n",
      "+--------------------+-----------+--------------+---------------+\n",
      "|abf0b3ca05f7189d9...|        1.0|             1|              1|\n",
      "|9532a4d7fc55ffa3e...|        1.0|             1|              1|\n",
      "|cee894d4a0dcc6e8a...|        1.0|            23|             23|\n",
      "|f68a72e3ae83b6996...|        1.0|             1|              1|\n",
      "|98e998f0252bf5c55...|        1.0|             1|              1|\n",
      "|4a2f4920a2c1d331d...|        1.0|             1|              1|\n",
      "|5820537a3c82067fd...|        1.0|             1|              1|\n",
      "|a338457b0c62a1743...|        1.0|             1|              1|\n",
      "|20e5a52c452082acb...|        1.0|             1|              1|\n",
      "|cbfa331093e73e1c4...|        1.0|             9|              9|\n",
      "+--------------------+-----------+--------------+---------------+\n",
      "only showing top 10 rows\n",
      "\n"
     ]
    }
   ],
   "source": [
    "#Offers Grouping\n",
    "offers = df.groupBy('offerid').agg({'rating': 'mean', 'offerid': 'count'})\n",
    "\n",
    "offers = offers.withColumn('count(positive)', (col('avg(rating)') * col('count(offerid)')).cast('int'))\n",
    "offers = offers.sort(\"avg(rating)\", ascending=False)\n",
    "offers.show(10)"
   ]
  },
  {
   "cell_type": "code",
   "execution_count": 23,
   "metadata": {},
   "outputs": [
    {
     "name": "stdout",
     "output_type": "stream",
     "text": [
      "+--------------------+------------------+--------------+---------------+\n",
      "|             offerid|       avg(rating)|count(offerid)|count(positive)|\n",
      "+--------------------+------------------+--------------+---------------+\n",
      "|a066572754a00f7a0...|0.9955156950672646|           223|            222|\n",
      "|ae19aab375ac925bd...|0.9913793103448276|           232|            230|\n",
      "|61ba4686f0a6b704a...|0.9911764705882353|           340|            337|\n",
      "|c07db2553dc287e0d...|0.9902912621359223|           103|            102|\n",
      "|e27570f3348a9fec4...|0.9883551673944687|           687|            679|\n",
      "|5c2f1d277d6922bb7...|0.9870689655172413|           232|            229|\n",
      "|ea268a1ab5ba20bdd...| 0.981203007518797|           266|            261|\n",
      "|a1cb8243ccdbfda93...|0.9809523809523809|           105|            103|\n",
      "|01c0d039ff17aa7f4...|0.9752066115702479|           121|            118|\n",
      "|30a81c7e560b76f51...|0.9635036496350365|           137|            132|\n",
      "+--------------------+------------------+--------------+---------------+\n",
      "only showing top 10 rows\n",
      "\n"
     ]
    }
   ],
   "source": [
    "offers.filter(offers['count(positive)'] > 100).show(10)"
   ]
  },
  {
   "cell_type": "code",
   "execution_count": 26,
   "metadata": {},
   "outputs": [
    {
     "name": "stdout",
     "output_type": "stream",
     "text": [
      "root\n",
      " |-- userid: string (nullable = true)\n",
      " |-- offerid: string (nullable = true)\n",
      " |-- category: integer (nullable = true)\n",
      " |-- merchant: string (nullable = true)\n",
      " |-- rating: integer (nullable = true)\n",
      " |-- day_of_week: integer (nullable = true)\n",
      " |-- hour: integer (nullable = true)\n",
      "\n"
     ]
    }
   ],
   "source": [
    "df.printSchema()"
   ]
  },
  {
   "cell_type": "markdown",
   "metadata": {},
   "source": [
    "# 2) Model Building using pandas"
   ]
  },
  {
   "cell_type": "markdown",
   "metadata": {},
   "source": [
    "## Model Building and Feature Engineering"
   ]
  },
  {
   "cell_type": "code",
   "execution_count": null,
   "metadata": {},
   "outputs": [],
   "source": [
    "%cd /content/drive//My\\ Drive/Notebook/ML_Chal_Kasandra/\n",
    "## Google colab path set"
   ]
  },
  {
   "cell_type": "code",
   "execution_count": 1,
   "metadata": {},
   "outputs": [],
   "source": [
    "#import the required functions and libraries\n",
    "import pandas as pd\n",
    "import numpy as np\n",
    "import seaborn as sns\n",
    "import matplotlib.pyplot as plt\n",
    "import time\n",
    "import pickle\n",
    "%matplotlib inline"
   ]
  },
  {
   "cell_type": "markdown",
   "metadata": {},
   "source": [
    "### Data load"
   ]
  },
  {
   "cell_type": "code",
   "execution_count": 16,
   "metadata": {},
   "outputs": [
    {
     "name": "stdout",
     "output_type": "stream",
     "text": [
      "Data Loading time : 73.14873099327087 sec\n"
     ]
    },
    {
     "data": {
      "text/html": [
       "<div>\n",
       "<style scoped>\n",
       "    .dataframe tbody tr th:only-of-type {\n",
       "        vertical-align: middle;\n",
       "    }\n",
       "\n",
       "    .dataframe tbody tr th {\n",
       "        vertical-align: top;\n",
       "    }\n",
       "\n",
       "    .dataframe thead th {\n",
       "        text-align: right;\n",
       "    }\n",
       "</style>\n",
       "<table border=\"1\" class=\"dataframe\">\n",
       "  <thead>\n",
       "    <tr style=\"text-align: right;\">\n",
       "      <th></th>\n",
       "      <th>userid</th>\n",
       "      <th>offerid</th>\n",
       "      <th>countrycode</th>\n",
       "      <th>category</th>\n",
       "      <th>merchant</th>\n",
       "      <th>utcdate</th>\n",
       "      <th>rating</th>\n",
       "    </tr>\n",
       "  </thead>\n",
       "  <tbody>\n",
       "    <tr>\n",
       "      <th>0</th>\n",
       "      <td>fa937b779184527f12e2d71c711e6411236d1ab59f8597...</td>\n",
       "      <td>c5f63750c2b5b0166e55511ee878b7a3</td>\n",
       "      <td>de</td>\n",
       "      <td>100020213</td>\n",
       "      <td>f3c93baa0cf4430849611cedb3a40ec4094d1d370be841...</td>\n",
       "      <td>2016-06-14 17:28:47.0</td>\n",
       "      <td>0</td>\n",
       "    </tr>\n",
       "    <tr>\n",
       "      <th>1</th>\n",
       "      <td>f6c8958b9bc2d6033ff4c1cc0a03e9ab96df4bcc528913...</td>\n",
       "      <td>19754ec121b3a99fff3967646942de67</td>\n",
       "      <td>de</td>\n",
       "      <td>100020213</td>\n",
       "      <td>21a509189fb0875c3732590121ff3fc86da770b0628c18...</td>\n",
       "      <td>2016-06-14 17:28:48.0</td>\n",
       "      <td>0</td>\n",
       "    </tr>\n",
       "    <tr>\n",
       "      <th>2</th>\n",
       "      <td>02fe7ccf1de19a387afc8a11d08852ffd2b4dabaed4e2d...</td>\n",
       "      <td>5ac4398e4d8ad4167a57b43e9c724b18</td>\n",
       "      <td>de</td>\n",
       "      <td>125801</td>\n",
       "      <td>b042951fdb45ddef8ba6075ced0e5885bc2fa4c4470bf7...</td>\n",
       "      <td>2016-06-14 17:28:50.0</td>\n",
       "      <td>0</td>\n",
       "    </tr>\n",
       "    <tr>\n",
       "      <th>3</th>\n",
       "      <td>9de5c06d0a16256b13b8e7cdc50bf203ecef533eb5cbe1...</td>\n",
       "      <td>be83df9772ec47fd210b28091138ff11</td>\n",
       "      <td>de</td>\n",
       "      <td>125801</td>\n",
       "      <td>4740b6c83b6e12e423297493f234323ffd1c991f3d4496...</td>\n",
       "      <td>2016-06-14 17:29:19.0</td>\n",
       "      <td>0</td>\n",
       "    </tr>\n",
       "    <tr>\n",
       "      <th>4</th>\n",
       "      <td>8d26ade603ea5473c3844aebfcd9e96e6adc8ff411576e...</td>\n",
       "      <td>3735290a415dc236bacd7ed3aa03b2d5</td>\n",
       "      <td>de</td>\n",
       "      <td>125801</td>\n",
       "      <td>8bf8f87492a799528235c04bb18ff2d12db5058ff6e9a0...</td>\n",
       "      <td>2016-06-14 17:29:31.0</td>\n",
       "      <td>0</td>\n",
       "    </tr>\n",
       "  </tbody>\n",
       "</table>\n",
       "</div>"
      ],
      "text/plain": [
       "                                              userid  \\\n",
       "0  fa937b779184527f12e2d71c711e6411236d1ab59f8597...   \n",
       "1  f6c8958b9bc2d6033ff4c1cc0a03e9ab96df4bcc528913...   \n",
       "2  02fe7ccf1de19a387afc8a11d08852ffd2b4dabaed4e2d...   \n",
       "3  9de5c06d0a16256b13b8e7cdc50bf203ecef533eb5cbe1...   \n",
       "4  8d26ade603ea5473c3844aebfcd9e96e6adc8ff411576e...   \n",
       "\n",
       "                            offerid countrycode   category  \\\n",
       "0  c5f63750c2b5b0166e55511ee878b7a3          de  100020213   \n",
       "1  19754ec121b3a99fff3967646942de67          de  100020213   \n",
       "2  5ac4398e4d8ad4167a57b43e9c724b18          de     125801   \n",
       "3  be83df9772ec47fd210b28091138ff11          de     125801   \n",
       "4  3735290a415dc236bacd7ed3aa03b2d5          de     125801   \n",
       "\n",
       "                                            merchant                utcdate  \\\n",
       "0  f3c93baa0cf4430849611cedb3a40ec4094d1d370be841...  2016-06-14 17:28:47.0   \n",
       "1  21a509189fb0875c3732590121ff3fc86da770b0628c18...  2016-06-14 17:28:48.0   \n",
       "2  b042951fdb45ddef8ba6075ced0e5885bc2fa4c4470bf7...  2016-06-14 17:28:50.0   \n",
       "3  4740b6c83b6e12e423297493f234323ffd1c991f3d4496...  2016-06-14 17:29:19.0   \n",
       "4  8bf8f87492a799528235c04bb18ff2d12db5058ff6e9a0...  2016-06-14 17:29:31.0   \n",
       "\n",
       "   rating  \n",
       "0       0  \n",
       "1       0  \n",
       "2       0  \n",
       "3       0  \n",
       "4       0  "
      ]
     },
     "execution_count": 16,
     "metadata": {},
     "output_type": "execute_result"
    }
   ],
   "source": [
    "#Read data\n",
    "dpath=\"C:\\\\Datasets\\\\MLData\\\\Kasandr\\\\dataset\\\\train_de.csv\"\n",
    "start = time.time()\n",
    "#load the dataset and create sprk dataframe\n",
    "data=pd.read_csv(dpath,sep='\\t')\n",
    "end = time.time()\n",
    "print(\"Data Loading time :\",str(end - start)+' sec')\n",
    "data.head()"
   ]
  },
  {
   "cell_type": "markdown",
   "metadata": {},
   "source": [
    "### Feature Engineering"
   ]
  },
  {
   "cell_type": "code",
   "execution_count": 32,
   "metadata": {},
   "outputs": [
    {
     "data": {
      "text/plain": [
       "0           2016-06-14 17:28:47.0\n",
       "1           2016-06-14 17:28:48.0\n",
       "2           2016-06-14 17:28:50.0\n",
       "3           2016-06-14 17:29:19.0\n",
       "4           2016-06-14 17:29:31.0\n",
       "                    ...          \n",
       "15844712    2016-06-14 21:12:14.0\n",
       "15844713    2016-06-14 21:12:14.0\n",
       "15844714    2016-06-14 21:12:19.0\n",
       "15844715    2016-06-14 21:12:51.0\n",
       "15844716    2016-06-14 21:12:51.0\n",
       "Name: utcdate, Length: 15844717, dtype: object"
      ]
     },
     "execution_count": 32,
     "metadata": {},
     "output_type": "execute_result"
    }
   ],
   "source": [
    "data['utcdate']"
   ]
  },
  {
   "cell_type": "code",
   "execution_count": 17,
   "metadata": {},
   "outputs": [
    {
     "data": {
      "text/html": [
       "<div>\n",
       "<style scoped>\n",
       "    .dataframe tbody tr th:only-of-type {\n",
       "        vertical-align: middle;\n",
       "    }\n",
       "\n",
       "    .dataframe tbody tr th {\n",
       "        vertical-align: top;\n",
       "    }\n",
       "\n",
       "    .dataframe thead th {\n",
       "        text-align: right;\n",
       "    }\n",
       "</style>\n",
       "<table border=\"1\" class=\"dataframe\">\n",
       "  <thead>\n",
       "    <tr style=\"text-align: right;\">\n",
       "      <th></th>\n",
       "      <th>userid</th>\n",
       "      <th>offerid</th>\n",
       "      <th>countrycode</th>\n",
       "      <th>category</th>\n",
       "      <th>merchant</th>\n",
       "      <th>utcdate</th>\n",
       "      <th>rating</th>\n",
       "      <th>weekday</th>\n",
       "    </tr>\n",
       "  </thead>\n",
       "  <tbody>\n",
       "    <tr>\n",
       "      <th>0</th>\n",
       "      <td>fa937b779184527f12e2d71c711e6411236d1ab59f8597...</td>\n",
       "      <td>c5f63750c2b5b0166e55511ee878b7a3</td>\n",
       "      <td>de</td>\n",
       "      <td>100020213</td>\n",
       "      <td>f3c93baa0cf4430849611cedb3a40ec4094d1d370be841...</td>\n",
       "      <td>2016-06-14 17:28:47.0</td>\n",
       "      <td>0</td>\n",
       "      <td>1</td>\n",
       "    </tr>\n",
       "    <tr>\n",
       "      <th>1</th>\n",
       "      <td>f6c8958b9bc2d6033ff4c1cc0a03e9ab96df4bcc528913...</td>\n",
       "      <td>19754ec121b3a99fff3967646942de67</td>\n",
       "      <td>de</td>\n",
       "      <td>100020213</td>\n",
       "      <td>21a509189fb0875c3732590121ff3fc86da770b0628c18...</td>\n",
       "      <td>2016-06-14 17:28:48.0</td>\n",
       "      <td>0</td>\n",
       "      <td>1</td>\n",
       "    </tr>\n",
       "    <tr>\n",
       "      <th>2</th>\n",
       "      <td>02fe7ccf1de19a387afc8a11d08852ffd2b4dabaed4e2d...</td>\n",
       "      <td>5ac4398e4d8ad4167a57b43e9c724b18</td>\n",
       "      <td>de</td>\n",
       "      <td>125801</td>\n",
       "      <td>b042951fdb45ddef8ba6075ced0e5885bc2fa4c4470bf7...</td>\n",
       "      <td>2016-06-14 17:28:50.0</td>\n",
       "      <td>0</td>\n",
       "      <td>1</td>\n",
       "    </tr>\n",
       "    <tr>\n",
       "      <th>3</th>\n",
       "      <td>9de5c06d0a16256b13b8e7cdc50bf203ecef533eb5cbe1...</td>\n",
       "      <td>be83df9772ec47fd210b28091138ff11</td>\n",
       "      <td>de</td>\n",
       "      <td>125801</td>\n",
       "      <td>4740b6c83b6e12e423297493f234323ffd1c991f3d4496...</td>\n",
       "      <td>2016-06-14 17:29:19.0</td>\n",
       "      <td>0</td>\n",
       "      <td>1</td>\n",
       "    </tr>\n",
       "    <tr>\n",
       "      <th>4</th>\n",
       "      <td>8d26ade603ea5473c3844aebfcd9e96e6adc8ff411576e...</td>\n",
       "      <td>3735290a415dc236bacd7ed3aa03b2d5</td>\n",
       "      <td>de</td>\n",
       "      <td>125801</td>\n",
       "      <td>8bf8f87492a799528235c04bb18ff2d12db5058ff6e9a0...</td>\n",
       "      <td>2016-06-14 17:29:31.0</td>\n",
       "      <td>0</td>\n",
       "      <td>1</td>\n",
       "    </tr>\n",
       "  </tbody>\n",
       "</table>\n",
       "</div>"
      ],
      "text/plain": [
       "                                              userid  \\\n",
       "0  fa937b779184527f12e2d71c711e6411236d1ab59f8597...   \n",
       "1  f6c8958b9bc2d6033ff4c1cc0a03e9ab96df4bcc528913...   \n",
       "2  02fe7ccf1de19a387afc8a11d08852ffd2b4dabaed4e2d...   \n",
       "3  9de5c06d0a16256b13b8e7cdc50bf203ecef533eb5cbe1...   \n",
       "4  8d26ade603ea5473c3844aebfcd9e96e6adc8ff411576e...   \n",
       "\n",
       "                            offerid countrycode   category  \\\n",
       "0  c5f63750c2b5b0166e55511ee878b7a3          de  100020213   \n",
       "1  19754ec121b3a99fff3967646942de67          de  100020213   \n",
       "2  5ac4398e4d8ad4167a57b43e9c724b18          de     125801   \n",
       "3  be83df9772ec47fd210b28091138ff11          de     125801   \n",
       "4  3735290a415dc236bacd7ed3aa03b2d5          de     125801   \n",
       "\n",
       "                                            merchant                utcdate  \\\n",
       "0  f3c93baa0cf4430849611cedb3a40ec4094d1d370be841...  2016-06-14 17:28:47.0   \n",
       "1  21a509189fb0875c3732590121ff3fc86da770b0628c18...  2016-06-14 17:28:48.0   \n",
       "2  b042951fdb45ddef8ba6075ced0e5885bc2fa4c4470bf7...  2016-06-14 17:28:50.0   \n",
       "3  4740b6c83b6e12e423297493f234323ffd1c991f3d4496...  2016-06-14 17:29:19.0   \n",
       "4  8bf8f87492a799528235c04bb18ff2d12db5058ff6e9a0...  2016-06-14 17:29:31.0   \n",
       "\n",
       "   rating  weekday  \n",
       "0       0        1  \n",
       "1       0        1  \n",
       "2       0        1  \n",
       "3       0        1  \n",
       "4       0        1  "
      ]
     },
     "execution_count": 17,
     "metadata": {},
     "output_type": "execute_result"
    }
   ],
   "source": [
    "###The day of the week with Monday=0, Sunday=6.\n",
    "data['weekday'] = pd.to_datetime(data['utcdate']).apply(lambda x: x.weekday())\n",
    "data.head()"
   ]
  },
  {
   "cell_type": "code",
   "execution_count": 18,
   "metadata": {},
   "outputs": [
    {
     "data": {
      "text/html": [
       "<div>\n",
       "<style scoped>\n",
       "    .dataframe tbody tr th:only-of-type {\n",
       "        vertical-align: middle;\n",
       "    }\n",
       "\n",
       "    .dataframe tbody tr th {\n",
       "        vertical-align: top;\n",
       "    }\n",
       "\n",
       "    .dataframe thead th {\n",
       "        text-align: right;\n",
       "    }\n",
       "</style>\n",
       "<table border=\"1\" class=\"dataframe\">\n",
       "  <thead>\n",
       "    <tr style=\"text-align: right;\">\n",
       "      <th></th>\n",
       "      <th>userid</th>\n",
       "      <th>offerid</th>\n",
       "      <th>countrycode</th>\n",
       "      <th>category</th>\n",
       "      <th>merchant</th>\n",
       "      <th>utcdate</th>\n",
       "      <th>rating</th>\n",
       "      <th>weekday</th>\n",
       "      <th>hour</th>\n",
       "    </tr>\n",
       "  </thead>\n",
       "  <tbody>\n",
       "    <tr>\n",
       "      <th>0</th>\n",
       "      <td>fa937b779184527f12e2d71c711e6411236d1ab59f8597...</td>\n",
       "      <td>c5f63750c2b5b0166e55511ee878b7a3</td>\n",
       "      <td>de</td>\n",
       "      <td>100020213</td>\n",
       "      <td>f3c93baa0cf4430849611cedb3a40ec4094d1d370be841...</td>\n",
       "      <td>2016-06-14 17:28:47.0</td>\n",
       "      <td>0</td>\n",
       "      <td>1</td>\n",
       "      <td>17</td>\n",
       "    </tr>\n",
       "    <tr>\n",
       "      <th>1</th>\n",
       "      <td>f6c8958b9bc2d6033ff4c1cc0a03e9ab96df4bcc528913...</td>\n",
       "      <td>19754ec121b3a99fff3967646942de67</td>\n",
       "      <td>de</td>\n",
       "      <td>100020213</td>\n",
       "      <td>21a509189fb0875c3732590121ff3fc86da770b0628c18...</td>\n",
       "      <td>2016-06-14 17:28:48.0</td>\n",
       "      <td>0</td>\n",
       "      <td>1</td>\n",
       "      <td>17</td>\n",
       "    </tr>\n",
       "    <tr>\n",
       "      <th>2</th>\n",
       "      <td>02fe7ccf1de19a387afc8a11d08852ffd2b4dabaed4e2d...</td>\n",
       "      <td>5ac4398e4d8ad4167a57b43e9c724b18</td>\n",
       "      <td>de</td>\n",
       "      <td>125801</td>\n",
       "      <td>b042951fdb45ddef8ba6075ced0e5885bc2fa4c4470bf7...</td>\n",
       "      <td>2016-06-14 17:28:50.0</td>\n",
       "      <td>0</td>\n",
       "      <td>1</td>\n",
       "      <td>17</td>\n",
       "    </tr>\n",
       "    <tr>\n",
       "      <th>3</th>\n",
       "      <td>9de5c06d0a16256b13b8e7cdc50bf203ecef533eb5cbe1...</td>\n",
       "      <td>be83df9772ec47fd210b28091138ff11</td>\n",
       "      <td>de</td>\n",
       "      <td>125801</td>\n",
       "      <td>4740b6c83b6e12e423297493f234323ffd1c991f3d4496...</td>\n",
       "      <td>2016-06-14 17:29:19.0</td>\n",
       "      <td>0</td>\n",
       "      <td>1</td>\n",
       "      <td>17</td>\n",
       "    </tr>\n",
       "    <tr>\n",
       "      <th>4</th>\n",
       "      <td>8d26ade603ea5473c3844aebfcd9e96e6adc8ff411576e...</td>\n",
       "      <td>3735290a415dc236bacd7ed3aa03b2d5</td>\n",
       "      <td>de</td>\n",
       "      <td>125801</td>\n",
       "      <td>8bf8f87492a799528235c04bb18ff2d12db5058ff6e9a0...</td>\n",
       "      <td>2016-06-14 17:29:31.0</td>\n",
       "      <td>0</td>\n",
       "      <td>1</td>\n",
       "      <td>17</td>\n",
       "    </tr>\n",
       "  </tbody>\n",
       "</table>\n",
       "</div>"
      ],
      "text/plain": [
       "                                              userid  \\\n",
       "0  fa937b779184527f12e2d71c711e6411236d1ab59f8597...   \n",
       "1  f6c8958b9bc2d6033ff4c1cc0a03e9ab96df4bcc528913...   \n",
       "2  02fe7ccf1de19a387afc8a11d08852ffd2b4dabaed4e2d...   \n",
       "3  9de5c06d0a16256b13b8e7cdc50bf203ecef533eb5cbe1...   \n",
       "4  8d26ade603ea5473c3844aebfcd9e96e6adc8ff411576e...   \n",
       "\n",
       "                            offerid countrycode   category  \\\n",
       "0  c5f63750c2b5b0166e55511ee878b7a3          de  100020213   \n",
       "1  19754ec121b3a99fff3967646942de67          de  100020213   \n",
       "2  5ac4398e4d8ad4167a57b43e9c724b18          de     125801   \n",
       "3  be83df9772ec47fd210b28091138ff11          de     125801   \n",
       "4  3735290a415dc236bacd7ed3aa03b2d5          de     125801   \n",
       "\n",
       "                                            merchant                utcdate  \\\n",
       "0  f3c93baa0cf4430849611cedb3a40ec4094d1d370be841...  2016-06-14 17:28:47.0   \n",
       "1  21a509189fb0875c3732590121ff3fc86da770b0628c18...  2016-06-14 17:28:48.0   \n",
       "2  b042951fdb45ddef8ba6075ced0e5885bc2fa4c4470bf7...  2016-06-14 17:28:50.0   \n",
       "3  4740b6c83b6e12e423297493f234323ffd1c991f3d4496...  2016-06-14 17:29:19.0   \n",
       "4  8bf8f87492a799528235c04bb18ff2d12db5058ff6e9a0...  2016-06-14 17:29:31.0   \n",
       "\n",
       "   rating  weekday  hour  \n",
       "0       0        1    17  \n",
       "1       0        1    17  \n",
       "2       0        1    17  \n",
       "3       0        1    17  \n",
       "4       0        1    17  "
      ]
     },
     "execution_count": 18,
     "metadata": {},
     "output_type": "execute_result"
    }
   ],
   "source": [
    "data['hour'] = pd.DatetimeIndex(data['utcdate']).hour\n",
    "data.head()"
   ]
  },
  {
   "cell_type": "code",
   "execution_count": 19,
   "metadata": {},
   "outputs": [],
   "source": [
    "df=data.drop(labels='utcdate',axis=1)"
   ]
  },
  {
   "cell_type": "code",
   "execution_count": 6,
   "metadata": {},
   "outputs": [
    {
     "name": "stdout",
     "output_type": "stream",
     "text": [
      "<class 'pandas.core.frame.DataFrame'>\n",
      "RangeIndex: 15844717 entries, 0 to 15844716\n",
      "Data columns (total 8 columns):\n",
      " #   Column       Dtype \n",
      "---  ------       ----- \n",
      " 0   userid       object\n",
      " 1   offerid      object\n",
      " 2   countrycode  object\n",
      " 3   category     int64 \n",
      " 4   merchant     object\n",
      " 5   rating       int64 \n",
      " 6   weekday      int64 \n",
      " 7   hour         int64 \n",
      "dtypes: int64(4), object(4)\n",
      "memory usage: 967.1+ MB\n"
     ]
    }
   ],
   "source": [
    "df.info()"
   ]
  },
  {
   "cell_type": "code",
   "execution_count": 20,
   "metadata": {},
   "outputs": [],
   "source": [
    "y = df['rating']\n",
    "X = df.drop(labels=['userid','rating'],axis=1)"
   ]
  },
  {
   "cell_type": "code",
   "execution_count": 21,
   "metadata": {},
   "outputs": [
    {
     "name": "stdout",
     "output_type": "stream",
     "text": [
      "<class 'pandas.core.frame.DataFrame'>\n",
      "RangeIndex: 15844717 entries, 0 to 15844716\n",
      "Data columns (total 6 columns):\n",
      " #   Column       Dtype \n",
      "---  ------       ----- \n",
      " 0   offerid      object\n",
      " 1   countrycode  object\n",
      " 2   category     int64 \n",
      " 3   merchant     object\n",
      " 4   weekday      int64 \n",
      " 5   hour         int64 \n",
      "dtypes: int64(3), object(3)\n",
      "memory usage: 725.3+ MB\n"
     ]
    }
   ],
   "source": [
    "X.info()"
   ]
  },
  {
   "cell_type": "code",
   "execution_count": 22,
   "metadata": {},
   "outputs": [],
   "source": [
    "from sklearn.preprocessing import OneHotEncoder\n",
    "import pickle"
   ]
  },
  {
   "cell_type": "code",
   "execution_count": 23,
   "metadata": {},
   "outputs": [
    {
     "data": {
      "text/plain": [
       "OneHotEncoder(handle_unknown='ignore')"
      ]
     },
     "execution_count": 23,
     "metadata": {},
     "output_type": "execute_result"
    }
   ],
   "source": [
    "# X_t = OneHotEncoder().fit_transform(X)\n",
    "# print(\"Size of transformed data: {0}\".format(X_t.shape))\n",
    "##Size of transformed data: (15844717, 3114014)\n",
    "#### To save the fit model ################\n",
    "enc = OneHotEncoder(handle_unknown='ignore')\n",
    "enc.fit(X)"
   ]
  },
  {
   "cell_type": "code",
   "execution_count": 24,
   "metadata": {},
   "outputs": [
    {
     "name": "stdout",
     "output_type": "stream",
     "text": [
      "Size of transformed data: (15844717, 2159865)\n"
     ]
    }
   ],
   "source": [
    "filehandler = open(\"encoder.pkl\",\"wb\")\n",
    "pickle.dump(enc,filehandler)\n",
    "filehandler.close()\n",
    "\n",
    "file = open(\"encoder.pkl\",'rb')\n",
    "enc= pickle.load(file)\n",
    "file.close()\n",
    "X_t=enc.transform(X)\n",
    "print(\"Size of transformed data: {0}\".format(X_t.shape))"
   ]
  },
  {
   "cell_type": "markdown",
   "metadata": {},
   "source": [
    "### Model Building without upsampling"
   ]
  },
  {
   "cell_type": "code",
   "execution_count": 21,
   "metadata": {},
   "outputs": [],
   "source": [
    "from sklearn.model_selection import train_test_split\n",
    "import catboost as cb\n",
    "import lightgbm as lgb \n",
    "import pickle\n",
    "from xgboost import XGBClassifier\n",
    "from sklearn.metrics import accuracy_score"
   ]
  },
  {
   "cell_type": "code",
   "execution_count": 44,
   "metadata": {},
   "outputs": [],
   "source": [
    "train_x, test_x, train_y, test_y = train_test_split(X_t, y, test_size=0.10,random_state=42)"
   ]
  },
  {
   "cell_type": "code",
   "execution_count": null,
   "metadata": {},
   "outputs": [],
   "source": [
    "############### LGBOOST Algorithm###############\n",
    "small_lgb_model = lgb.LGBMClassifier()\n",
    "small_lgb_model.fit(train_x, train_y)"
   ]
  },
  {
   "cell_type": "code",
   "execution_count": null,
   "metadata": {},
   "outputs": [],
   "source": [
    "############## Model Save & Load ###########\n",
    "filehandler = open(\"lgb_model.pkl\",\"wb\")\n",
    "pickle.dump(enc,filehandler)\n",
    "filehandler.close()\n",
    "\n",
    "file = open(\"lgb_model.pkl\",'rb')\n",
    "lgb_model= pickle.load(file)\n",
    "file.close()"
   ]
  },
  {
   "cell_type": "code",
   "execution_count": 24,
   "metadata": {},
   "outputs": [
    {
     "name": "stdout",
     "output_type": "stream",
     "text": [
      "accuracy: 0.9685560868226135\n"
     ]
    }
   ],
   "source": [
    "# cheking initial test accuracy\n",
    "y_pred = small_lgb_model.predict(test_x)\n",
    "predictions = [round(value) for value in y_pred]\n",
    "accuracy = accuracy_score(test_y,predictions)\n",
    "print('accuracy:',accuracy)"
   ]
  },
  {
   "cell_type": "markdown",
   "metadata": {},
   "source": [
    "#### Classification metrics"
   ]
  },
  {
   "cell_type": "code",
   "execution_count": 25,
   "metadata": {},
   "outputs": [
    {
     "name": "stdout",
     "output_type": "stream",
     "text": [
      "Weighted F1: 0.9632183052166432\n",
      "Accuracy: 0.9685560868226135\n",
      "Weighted ROC: 0.691292868185599\n",
      "Classification report: \n",
      "              precision    recall  f1-score   support\n",
      "\n",
      "           0       0.97      1.00      0.98   1513904\n",
      "           1       0.81      0.39      0.52     70568\n",
      "\n",
      "    accuracy                           0.97   1584472\n",
      "   macro avg       0.89      0.69      0.75   1584472\n",
      "weighted avg       0.96      0.97      0.96   1584472\n",
      "\n"
     ]
    }
   ],
   "source": [
    "from sklearn.metrics import f1_score, accuracy_score, roc_auc_score, average_precision_score\n",
    "from sklearn.metrics import classification_report, confusion_matrix, precision_recall_curve\n",
    "from sklearn.metrics import precision_score, precision_recall_fscore_support, recall_score\n",
    "# predvec = np.where(predictions > 0.5, 1, 0)\n",
    "print('Weighted F1: {}'.format(f1_score(test_y, predictions,average='weighted')))\n",
    "print('Accuracy: {}'.format(accuracy_score(test_y, predictions)))\n",
    "print('Weighted ROC: {}'.format(roc_auc_score(test_y, predictions, average='weighted')))\n",
    "print('Classification report: \\n',classification_report(test_y, predictions),sep='')\n",
    "# print('Confusion matrix: \\n',confusion_matrix(test_y, predictions))"
   ]
  },
  {
   "cell_type": "code",
   "execution_count": null,
   "metadata": {},
   "outputs": [],
   "source": []
  },
  {
   "cell_type": "markdown",
   "metadata": {},
   "source": [
    "### Model Building with upsampling"
   ]
  },
  {
   "cell_type": "code",
   "execution_count": 56,
   "metadata": {},
   "outputs": [],
   "source": [
    "from imblearn.over_sampling import RandomOverSampler"
   ]
  },
  {
   "cell_type": "code",
   "execution_count": 58,
   "metadata": {},
   "outputs": [
    {
     "name": "stdout",
     "output_type": "stream",
     "text": [
      "Size of sampled data: (30278540, 3114014)\n"
     ]
    }
   ],
   "source": [
    "rdsmple = RandomOverSampler()\n",
    "x_sampled, y_sampled = rdsmple.fit_sample(X_t, y)\n",
    "print(\"Size of sampled data: {0}\".format(x_sampled.shape))"
   ]
  },
  {
   "cell_type": "code",
   "execution_count": 35,
   "metadata": {},
   "outputs": [],
   "source": [
    "train_x, test_x, train_y, test_y = train_test_split(x_sampled, y_sampled, test_size=0.25,random_state=42)"
   ]
  },
  {
   "cell_type": "code",
   "execution_count": 60,
   "metadata": {},
   "outputs": [
    {
     "data": {
      "text/plain": [
       "LGBMClassifier()"
      ]
     },
     "execution_count": 60,
     "metadata": {},
     "output_type": "execute_result"
    }
   ],
   "source": [
    "############### LGBOOST Algorithm###############\n",
    "lgb_model = lgb.LGBMClassifier()\n",
    "lgb_model.fit(train_x, train_y)"
   ]
  },
  {
   "cell_type": "markdown",
   "metadata": {},
   "source": [
    "#### Classification metrics"
   ]
  },
  {
   "cell_type": "code",
   "execution_count": 61,
   "metadata": {},
   "outputs": [
    {
     "name": "stdout",
     "output_type": "stream",
     "text": [
      "Weighted F1: 0.7240969664362467\n",
      "Accuracy: 0.734895011450354\n",
      "Weighted ROC: 0.7348615922859637\n",
      "Classification report: \n",
      "              precision    recall  f1-score   support\n",
      "\n",
      "           0       0.67      0.93      0.78   3785457\n",
      "           1       0.89      0.54      0.67   3784178\n",
      "\n",
      "    accuracy                           0.73   7569635\n",
      "   macro avg       0.78      0.73      0.72   7569635\n",
      "weighted avg       0.78      0.73      0.72   7569635\n",
      "\n"
     ]
    }
   ],
   "source": [
    "from sklearn.metrics import f1_score, accuracy_score, roc_auc_score, average_precision_score\n",
    "from sklearn.metrics import classification_report, confusion_matrix, precision_recall_curve\n",
    "from sklearn.metrics import precision_score, precision_recall_fscore_support, recall_score\n",
    "# cheking initial test results\n",
    "y_pred = lgb_model.predict(test_x)\n",
    "predictions = [round(value) for value in y_pred]\n",
    "print('Weighted F1: {}'.format(f1_score(test_y, predictions,average='weighted')))\n",
    "print('Accuracy: {}'.format(accuracy_score(test_y, predictions)))\n",
    "print('Weighted ROC: {}'.format(roc_auc_score(test_y, predictions, average='weighted')))\n",
    "print('Classification report: \\n',classification_report(test_y, predictions),sep='')"
   ]
  },
  {
   "cell_type": "code",
   "execution_count": 1,
   "metadata": {},
   "outputs": [],
   "source": [
    "# print('Confusion matrix: \\n',confusion_matrix(test_y, predictions))"
   ]
  },
  {
   "cell_type": "markdown",
   "metadata": {},
   "source": [
    "### Hyperparameter Tuning"
   ]
  },
  {
   "cell_type": "code",
   "execution_count": 1,
   "metadata": {},
   "outputs": [],
   "source": [
    "from sklearn.model_selection import RandomizedSearchCV"
   ]
  },
  {
   "cell_type": "code",
   "execution_count": 2,
   "metadata": {},
   "outputs": [],
   "source": [
    "param_test ={'num_leaves': [5, 10, 50], \n",
    "             'min_child_samples': [50, 100,500], \n",
    "             'min_child_weight': [1e-5, 1e-3, 1e-2, 1e-1, 1, 1e2],\n",
    "             'subsample': [0.2,0.4,0.8], \n",
    "             'colsample_bytree': [0.2,0.4,0.6],\n",
    "             'reg_alpha': [0, 1e-1, 1, 2, 5, 7, 10, 50, 100],\n",
    "             'reg_lambda': [0, 1e-1, 1, 5, 10, 20, 50, 100]}"
   ]
  },
  {
   "cell_type": "code",
   "execution_count": null,
   "metadata": {},
   "outputs": [],
   "source": [
    "fit_params={\"early_stopping_rounds\":10, \n",
    "            \"eval_metric\" : 'auc', \n",
    "            \"eval_set\" : [(test_x,test_y)],\n",
    "            'eval_names': ['valid'],\n",
    "            #'callbacks': [lgb.reset_parameter(learning_rate=learning_rate_010_decay_power_099)],\n",
    "            'verbose': 2,\n",
    "            'categorical_feature': 'auto'}"
   ]
  },
  {
   "cell_type": "code",
   "execution_count": null,
   "metadata": {},
   "outputs": [],
   "source": [
    "# #n_estimators is set to a \"large value\". The actual number of trees build will depend on early stopping and 1000 define only the absolute maximum\n",
    "clf = lgb.LGBMClassifier(max_depth=-1, random_state=314, silent=True, metric='None', n_jobs=4, n_estimators=10)\n",
    "gs = RandomizedSearchCV(\n",
    "    estimator=clf, param_distributions=param_test, \n",
    "    scoring='roc_auc',\n",
    "    cv=3,\n",
    "    refit=True,\n",
    "    random_state=314,\n",
    "    verbose=True)"
   ]
  },
  {
   "cell_type": "code",
   "execution_count": null,
   "metadata": {},
   "outputs": [],
   "source": [
    "gs.fit(train_x, train_y, **fit_params)\n",
    "print('Best score reached: {} with params: {} '.format(gs.best_score_, gs.best_params_))"
   ]
  },
  {
   "cell_type": "code",
   "execution_count": null,
   "metadata": {},
   "outputs": [],
   "source": [
    "model = lgb.LGBMClassifier(colsample_bytree= 0.4, min_child_samples= 50, min_child_weight= 1, \n",
    "                           num_leaves= 50, reg_alpha= 50, reg_lambda= 0, subsample= 0.2)\n",
    "model.fit(train_x, train_y)\n"
   ]
  },
  {
   "cell_type": "code",
   "execution_count": null,
   "metadata": {},
   "outputs": [],
   "source": [
    "############## Model Save & Load ###########\n",
    "filehandler = open(\"LGBoost.sav\",\"wb\")\n",
    "pickle.dump(model,filehandler)\n",
    "filehandler.close()\n",
    "\n",
    "file = open(\"LGBoost.sav\",'rb')\n",
    "model= pickle.load(file)\n",
    "file.close()"
   ]
  },
  {
   "cell_type": "code",
   "execution_count": null,
   "metadata": {},
   "outputs": [],
   "source": []
  }
 ],
 "metadata": {
  "kernelspec": {
   "display_name": "Python 3",
   "language": "python",
   "name": "python3"
  },
  "language_info": {
   "codemirror_mode": {
    "name": "ipython",
    "version": 3
   },
   "file_extension": ".py",
   "mimetype": "text/x-python",
   "name": "python",
   "nbconvert_exporter": "python",
   "pygments_lexer": "ipython3",
   "version": "3.6.8"
  }
 },
 "nbformat": 4,
 "nbformat_minor": 4
}
